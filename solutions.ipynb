{
 "cells": [
  {
   "cell_type": "code",
   "execution_count": 1,
   "metadata": {},
   "outputs": [],
   "source": [
    "import re\n",
    "from copy import deepcopy"
   ]
  },
  {
   "cell_type": "markdown",
   "metadata": {},
   "source": [
    "## Day 1"
   ]
  },
  {
   "cell_type": "code",
   "execution_count": 2,
   "metadata": {},
   "outputs": [
    {
     "name": "stdout",
     "output_type": "stream",
     "text": [
      "74394\n",
      "212836\n"
     ]
    }
   ],
   "source": [
    "with open('data/day1.txt') as file:\n",
    "    data = file.read()\n",
    "\n",
    "summed = []\n",
    "current = 0\n",
    "\n",
    "for cal in data.splitlines():\n",
    "    if cal !=\"\":\n",
    "        current+=int(cal)\n",
    "    else:\n",
    "        summed.append(current)\n",
    "        current=0\n",
    "\n",
    "summed.sort()\n",
    "\n",
    "print(summed[-1])\n",
    "print(sum(summed[-3:]))"
   ]
  },
  {
   "cell_type": "markdown",
   "metadata": {},
   "source": [
    "## Day 2"
   ]
  },
  {
   "cell_type": "code",
   "execution_count": 3,
   "metadata": {},
   "outputs": [],
   "source": [
    "with open('data/day2.txt') as file:\n",
    "    input = file.read()\n",
    "\n",
    "input = input.replace('A', 'X').replace('B','Y').replace('C','Z')\n",
    "input = [i.split(' ') for i in input.splitlines()]\n",
    "\n",
    "\n",
    "picks = {'X':1, 'Y':2, 'Z':3}\n",
    "losing = {'X':'Z', 'Y':'X', 'Z':'Y'}\n",
    "winning = {'Z':'X', 'X':'Y', 'Y':'Z'}"
   ]
  },
  {
   "cell_type": "code",
   "execution_count": 4,
   "metadata": {},
   "outputs": [
    {
     "name": "stdout",
     "output_type": "stream",
     "text": [
      "11063\n"
     ]
    }
   ],
   "source": [
    "score = 0\n",
    "for draw in input:\n",
    "    score += picks[draw[1]]\n",
    "    if draw[0]==draw[1]:\n",
    "        score+=3\n",
    "        continue\n",
    "    elif draw[1]=='X':\n",
    "        if draw[0]=='Z':\n",
    "            score+=6\n",
    "        else:\n",
    "            continue\n",
    "    elif draw[1]=='Y':\n",
    "        if draw[0]=='X':\n",
    "            score+=6\n",
    "        else:\n",
    "            continue\n",
    "    elif draw[1]=='Z':\n",
    "        if draw[0]=='Y':\n",
    "            score+=6\n",
    "\n",
    "# question 1\n",
    "print(score)"
   ]
  },
  {
   "cell_type": "code",
   "execution_count": 5,
   "metadata": {},
   "outputs": [
    {
     "name": "stdout",
     "output_type": "stream",
     "text": [
      "10349\n"
     ]
    }
   ],
   "source": [
    "input2 = []\n",
    "for draw in input:\n",
    "    temp = [draw[0]]\n",
    "    if draw[1]=='Y':\n",
    "        temp.append(draw[0])\n",
    "    elif draw[1]=='X':\n",
    "        temp.append(losing[draw[0]])\n",
    "    else:\n",
    "        temp.append(winning[draw[0]])\n",
    "    input2.append(temp)\n",
    "\n",
    "\n",
    "score = 0\n",
    "\n",
    "for draw in input2:\n",
    "    score += picks[draw[1]]\n",
    "    if draw[0]==draw[1]:\n",
    "        score+=3\n",
    "        continue\n",
    "    elif draw[1]=='X':\n",
    "        if draw[0]=='Z':\n",
    "            score+=6\n",
    "        else:\n",
    "            continue\n",
    "    elif draw[1]=='Y':\n",
    "        if draw[0]=='X':\n",
    "            score+=6\n",
    "        else:\n",
    "            continue\n",
    "    elif draw[1]=='Z':\n",
    "        if draw[0]=='Y':\n",
    "            score+=6\n",
    "\n",
    "# question 2\n",
    "print(score)"
   ]
  },
  {
   "cell_type": "markdown",
   "metadata": {},
   "source": [
    "## Day 3"
   ]
  },
  {
   "cell_type": "code",
   "execution_count": 6,
   "metadata": {},
   "outputs": [],
   "source": [
    "with open('data/day3.txt') as file:\n",
    "    input = file.read().splitlines()"
   ]
  },
  {
   "cell_type": "code",
   "execution_count": 7,
   "metadata": {},
   "outputs": [
    {
     "data": {
      "text/plain": [
       "7446"
      ]
     },
     "execution_count": 7,
     "metadata": {},
     "output_type": "execute_result"
    }
   ],
   "source": [
    "letters = 'abcdefghijklmnopqrstuvwxyzABCDEFGHIJKLMNOPQRSTUVWXYZ'\n",
    "\n",
    "common = {}\n",
    "\n",
    "for i in input:\n",
    "    a = i[:(len(i)) // 2]\n",
    "    b = i[(len(i)) // 2:]\n",
    "    for char in set(a).intersection(b):\n",
    "        if char in common:\n",
    "            common[char]+=1\n",
    "        else:\n",
    "            common[char]=1\n",
    "\n",
    "score = 0\n",
    "for key in common.keys():\n",
    "    score += (letters.index(key)+1) * common[key]\n",
    "score"
   ]
  },
  {
   "cell_type": "code",
   "execution_count": 8,
   "metadata": {},
   "outputs": [
    {
     "data": {
      "text/plain": [
       "2646"
      ]
     },
     "execution_count": 8,
     "metadata": {},
     "output_type": "execute_result"
    }
   ],
   "source": [
    "common = {}\n",
    "\n",
    "for i in range(len(input)//3):\n",
    "    a = input[i*3]\n",
    "    b = input[i*3+1]\n",
    "    c = input[i*3+2]\n",
    "\n",
    "    group = set(a).intersection(set(b)).intersection(set(c))\n",
    "\n",
    "    if list(group)[0] in common:\n",
    "        common[list(group)[0]]+=1\n",
    "    else:\n",
    "        common[list(group)[0]]=1\n",
    "\n",
    "score = 0\n",
    "for key in common.keys():\n",
    "    score += (letters.index(key)+1) * common[key]\n",
    "score"
   ]
  },
  {
   "cell_type": "markdown",
   "metadata": {},
   "source": [
    "## Day 4"
   ]
  },
  {
   "cell_type": "code",
   "execution_count": 9,
   "metadata": {},
   "outputs": [],
   "source": [
    "with open('data/day4.txt') as file:\n",
    "    input = file.read().splitlines()\n",
    "\n",
    "input = [i.split(',') for i in input]"
   ]
  },
  {
   "cell_type": "code",
   "execution_count": 10,
   "metadata": {},
   "outputs": [
    {
     "data": {
      "text/plain": [
       "487"
      ]
     },
     "execution_count": 10,
     "metadata": {},
     "output_type": "execute_result"
    }
   ],
   "source": [
    "count=0\n",
    "\n",
    "for i in input:\n",
    "    a = [int(k) for k in i[0].split('-')]\n",
    "    b = [int(k) for k in i[1].split('-')]\n",
    "\n",
    "    if a[0]==b[0] or a[1]==b[1]:\n",
    "        count+=1\n",
    "    elif a[0]<b[0]:\n",
    "        if a[1]>b[1]:\n",
    "            count+=1\n",
    "    elif b[1]>a[1]:\n",
    "        count+=1\n",
    "\n",
    "count"
   ]
  },
  {
   "cell_type": "code",
   "execution_count": 11,
   "metadata": {},
   "outputs": [
    {
     "data": {
      "text/plain": [
       "849"
      ]
     },
     "execution_count": 11,
     "metadata": {},
     "output_type": "execute_result"
    }
   ],
   "source": [
    "count=0\n",
    "\n",
    "for i in input:\n",
    "    a = [int(k) for k in i[0].split('-')]\n",
    "    b = [int(k) for k in i[1].split('-')]\n",
    "\n",
    "    if a[0]>=min(b) and a[0]<=max(b):\n",
    "        count+=1\n",
    "    elif a[1]>=min(b) and a[1]<=max(b):\n",
    "        count+=1\n",
    "    elif b[0]>=min(a) and b[0]<=max(a):\n",
    "        count+=1\n",
    "    elif b[1]>=min(a) and b[1]<=max(a):\n",
    "        count+=1\n",
    "\n",
    "count"
   ]
  },
  {
   "cell_type": "markdown",
   "metadata": {},
   "source": [
    "## Day 5"
   ]
  },
  {
   "cell_type": "code",
   "execution_count": 12,
   "metadata": {},
   "outputs": [],
   "source": [
    "with open('data/day5.txt') as file:\n",
    "    input = file.read()\n",
    "\n",
    "crates = [list((input.split('1   2')[0].replace('\\n',''))[1+4*i::35].replace(' ','')) for i in range(9)]\n",
    "crates2 = deepcopy(crates)\n",
    "\n",
    "moves = [re.findall(pattern=r'[0-9]+', string=m) for m in input.split('8   9')[1].splitlines()[2:]]"
   ]
  },
  {
   "cell_type": "code",
   "execution_count": 13,
   "metadata": {},
   "outputs": [
    {
     "name": "stdout",
     "output_type": "stream",
     "text": [
      "QNHWJVJZW\n"
     ]
    }
   ],
   "source": [
    "for m in moves:\n",
    "    m = [int(i)-1 for i in m]\n",
    "    for _ in range(m[0]+1):\n",
    "        crates[m[2]].insert(\n",
    "                0,\n",
    "                crates[m[1]].pop(0))\n",
    "\n",
    "# question 1\n",
    "print(''.join([c[0] for c in crates]))"
   ]
  },
  {
   "cell_type": "code",
   "execution_count": 14,
   "metadata": {},
   "outputs": [
    {
     "data": {
      "text/plain": [
       "'BPCZJLFJW'"
      ]
     },
     "execution_count": 14,
     "metadata": {},
     "output_type": "execute_result"
    }
   ],
   "source": [
    "for m in moves:\n",
    "    m = [int(i)-1 for i in m]\n",
    "\n",
    "    crates2[m[2]] = crates2[m[1]][:m[0]+1]+crates2[m[2]]\n",
    "    crates2[m[1]] = crates2[m[1]][m[0]+1:]\n",
    "\n",
    "# question 2\n",
    "''.join([c[0] for c in crates2])"
   ]
  }
 ],
 "metadata": {
  "kernelspec": {
   "display_name": "Python 3.9.12 ('ds2')",
   "language": "python",
   "name": "python3"
  },
  "language_info": {
   "codemirror_mode": {
    "name": "ipython",
    "version": 3
   },
   "file_extension": ".py",
   "mimetype": "text/x-python",
   "name": "python",
   "nbconvert_exporter": "python",
   "pygments_lexer": "ipython3",
   "version": "3.9.12"
  },
  "orig_nbformat": 4,
  "vscode": {
   "interpreter": {
    "hash": "31d8a1ef34cbcebda31b01d96f0668cc5da4b9d1ec201e7411d63c9c214da37f"
   }
  }
 },
 "nbformat": 4,
 "nbformat_minor": 2
}
