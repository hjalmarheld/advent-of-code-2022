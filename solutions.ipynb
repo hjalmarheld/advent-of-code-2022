{
 "cells": [
  {
   "cell_type": "markdown",
   "metadata": {},
   "source": [
    "# advent-of-code-2022\n",
    "Just for fun, ugly solutions essentially guaranteed.\n",
    "\n",
    "https://adventofcode.com/"
   ]
  },
  {
   "attachments": {},
   "cell_type": "markdown",
   "metadata": {},
   "source": [
    "### Finished days:\n",
    "\n",
    "[Day 1](#day-1)\n",
    "\n",
    "[Day 2](#day-2)\n",
    "\n",
    "[Day 3](#day-3)\n",
    "\n",
    "[Day 4](#day-4)\n",
    "\n",
    "[Day 5](#day-5)\n",
    "\n",
    "[Day 6](#day-6)\n",
    "\n",
    "[Day 7](#day-7)\n",
    "\n",
    "[Day 8](#day-8)\n",
    "\n",
    "[Day 9](#day-9)\n",
    "\n",
    "[Day 10](#day-10)\n",
    "\n",
    "[Day 11](#day-11)\n",
    "\n",
    "[Day 12](#day-12)\n",
    "\n",
    "[Day 13](#day-13)\n",
    "\n",
    "[Day 14](#day-14)\n",
    "\n",
    "[Day 15](#day-15)\n",
    "\n",
    "[Day 16](#day-16)"
   ]
  },
  {
   "cell_type": "code",
   "execution_count": 457,
   "metadata": {},
   "outputs": [],
   "source": [
    "# import used thus far, trying to keep \n",
    "# to minimum, without needing to write\n",
    "# excessive code...\n",
    "\n",
    "import re\n",
    "from copy import deepcopy\n",
    "from math import lcm\n",
    "from functools import reduce\n",
    "from random import sample"
   ]
  },
  {
   "cell_type": "markdown",
   "metadata": {},
   "source": [
    "## Day 1"
   ]
  },
  {
   "cell_type": "code",
   "execution_count": 2,
   "metadata": {},
   "outputs": [
    {
     "name": "stdout",
     "output_type": "stream",
     "text": [
      "74394\n",
      "212836\n"
     ]
    }
   ],
   "source": [
    "with open('data/day1.txt') as file:\n",
    "    data = file.read()\n",
    "\n",
    "summed = []\n",
    "current = 0\n",
    "\n",
    "for cal in data.splitlines():\n",
    "    if cal !=\"\":\n",
    "        current+=int(cal)\n",
    "    else:\n",
    "        summed.append(current)\n",
    "        current=0\n",
    "\n",
    "summed.sort()\n",
    "\n",
    "print(summed[-1])\n",
    "print(sum(summed[-3:]))"
   ]
  },
  {
   "cell_type": "markdown",
   "metadata": {},
   "source": [
    "## Day 2"
   ]
  },
  {
   "cell_type": "code",
   "execution_count": 3,
   "metadata": {},
   "outputs": [],
   "source": [
    "with open('data/day2.txt') as file:\n",
    "    input = file.read()\n",
    "\n",
    "input = input.replace('A', 'X').replace('B','Y').replace('C','Z')\n",
    "input = [i.split(' ') for i in input.splitlines()]\n",
    "\n",
    "\n",
    "picks = {'X':1, 'Y':2, 'Z':3}\n",
    "losing = {'X':'Z', 'Y':'X', 'Z':'Y'}\n",
    "winning = {'Z':'X', 'X':'Y', 'Y':'Z'}"
   ]
  },
  {
   "cell_type": "code",
   "execution_count": 4,
   "metadata": {},
   "outputs": [
    {
     "name": "stdout",
     "output_type": "stream",
     "text": [
      "11063\n"
     ]
    }
   ],
   "source": [
    "score = 0\n",
    "for draw in input:\n",
    "    score += picks[draw[1]]\n",
    "    if draw[0]==draw[1]:\n",
    "        score+=3\n",
    "        continue\n",
    "    elif draw[1]=='X':\n",
    "        if draw[0]=='Z':\n",
    "            score+=6\n",
    "        else:\n",
    "            continue\n",
    "    elif draw[1]=='Y':\n",
    "        if draw[0]=='X':\n",
    "            score+=6\n",
    "        else:\n",
    "            continue\n",
    "    elif draw[1]=='Z':\n",
    "        if draw[0]=='Y':\n",
    "            score+=6\n",
    "\n",
    "# question 1\n",
    "print(score)"
   ]
  },
  {
   "cell_type": "code",
   "execution_count": 5,
   "metadata": {},
   "outputs": [
    {
     "name": "stdout",
     "output_type": "stream",
     "text": [
      "10349\n"
     ]
    }
   ],
   "source": [
    "input2 = []\n",
    "for draw in input:\n",
    "    temp = [draw[0]]\n",
    "    if draw[1]=='Y':\n",
    "        temp.append(draw[0])\n",
    "    elif draw[1]=='X':\n",
    "        temp.append(losing[draw[0]])\n",
    "    else:\n",
    "        temp.append(winning[draw[0]])\n",
    "    input2.append(temp)\n",
    "\n",
    "\n",
    "score = 0\n",
    "\n",
    "for draw in input2:\n",
    "    score += picks[draw[1]]\n",
    "    if draw[0]==draw[1]:\n",
    "        score+=3\n",
    "        continue\n",
    "    elif draw[1]=='X':\n",
    "        if draw[0]=='Z':\n",
    "            score+=6\n",
    "        else:\n",
    "            continue\n",
    "    elif draw[1]=='Y':\n",
    "        if draw[0]=='X':\n",
    "            score+=6\n",
    "        else:\n",
    "            continue\n",
    "    elif draw[1]=='Z':\n",
    "        if draw[0]=='Y':\n",
    "            score+=6\n",
    "\n",
    "# question 2\n",
    "print(score)"
   ]
  },
  {
   "cell_type": "markdown",
   "metadata": {},
   "source": [
    "## Day 3"
   ]
  },
  {
   "cell_type": "code",
   "execution_count": 6,
   "metadata": {},
   "outputs": [],
   "source": [
    "with open('data/day3.txt') as file:\n",
    "    input = file.read().splitlines()"
   ]
  },
  {
   "cell_type": "code",
   "execution_count": 7,
   "metadata": {},
   "outputs": [
    {
     "data": {
      "text/plain": [
       "7446"
      ]
     },
     "execution_count": 7,
     "metadata": {},
     "output_type": "execute_result"
    }
   ],
   "source": [
    "letters = 'abcdefghijklmnopqrstuvwxyzABCDEFGHIJKLMNOPQRSTUVWXYZ'\n",
    "\n",
    "common = {}\n",
    "\n",
    "for i in input:\n",
    "    a = i[:(len(i)) // 2]\n",
    "    b = i[(len(i)) // 2:]\n",
    "    for char in set(a).intersection(b):\n",
    "        if char in common:\n",
    "            common[char]+=1\n",
    "        else:\n",
    "            common[char]=1\n",
    "\n",
    "score = 0\n",
    "for key in common.keys():\n",
    "    score += (letters.index(key)+1) * common[key]\n",
    "score"
   ]
  },
  {
   "cell_type": "code",
   "execution_count": 8,
   "metadata": {},
   "outputs": [
    {
     "data": {
      "text/plain": [
       "2646"
      ]
     },
     "execution_count": 8,
     "metadata": {},
     "output_type": "execute_result"
    }
   ],
   "source": [
    "common = {}\n",
    "\n",
    "for i in range(len(input)//3):\n",
    "    a = input[i*3]\n",
    "    b = input[i*3+1]\n",
    "    c = input[i*3+2]\n",
    "\n",
    "    group = set(a).intersection(set(b)).intersection(set(c))\n",
    "\n",
    "    if list(group)[0] in common:\n",
    "        common[list(group)[0]]+=1\n",
    "    else:\n",
    "        common[list(group)[0]]=1\n",
    "\n",
    "score = 0\n",
    "for key in common.keys():\n",
    "    score += (letters.index(key)+1) * common[key]\n",
    "score"
   ]
  },
  {
   "cell_type": "markdown",
   "metadata": {},
   "source": [
    "## Day 4"
   ]
  },
  {
   "cell_type": "code",
   "execution_count": 9,
   "metadata": {},
   "outputs": [],
   "source": [
    "with open('data/day4.txt') as file:\n",
    "    input = file.read().splitlines()\n",
    "\n",
    "input = [i.split(',') for i in input]"
   ]
  },
  {
   "cell_type": "code",
   "execution_count": 10,
   "metadata": {},
   "outputs": [
    {
     "data": {
      "text/plain": [
       "487"
      ]
     },
     "execution_count": 10,
     "metadata": {},
     "output_type": "execute_result"
    }
   ],
   "source": [
    "count=0\n",
    "\n",
    "for i in input:\n",
    "    a = [int(k) for k in i[0].split('-')]\n",
    "    b = [int(k) for k in i[1].split('-')]\n",
    "\n",
    "    if a[0]==b[0] or a[1]==b[1]:\n",
    "        count+=1\n",
    "    elif a[0]<b[0]:\n",
    "        if a[1]>b[1]:\n",
    "            count+=1\n",
    "    elif b[1]>a[1]:\n",
    "        count+=1\n",
    "\n",
    "count"
   ]
  },
  {
   "cell_type": "code",
   "execution_count": 11,
   "metadata": {},
   "outputs": [
    {
     "data": {
      "text/plain": [
       "849"
      ]
     },
     "execution_count": 11,
     "metadata": {},
     "output_type": "execute_result"
    }
   ],
   "source": [
    "count=0\n",
    "\n",
    "for i in input:\n",
    "    a = [int(k) for k in i[0].split('-')]\n",
    "    b = [int(k) for k in i[1].split('-')]\n",
    "\n",
    "    if max(b) >= a[0] >= min(b):\n",
    "        count += 1\n",
    "    elif max(b) >= a[1] >= min(b):\n",
    "        count += 1\n",
    "    elif max(a) >= b[0] >= min(a):\n",
    "        count += 1\n",
    "    elif max(a) >= b[1] >= min(a):\n",
    "        count += 1\n",
    "\n",
    "count"
   ]
  },
  {
   "cell_type": "markdown",
   "metadata": {},
   "source": [
    "## Day 5"
   ]
  },
  {
   "cell_type": "code",
   "execution_count": 12,
   "metadata": {},
   "outputs": [],
   "source": [
    "with open('data/day5.txt') as file:\n",
    "    input = file.read()\n",
    "\n",
    "crates = [list((input.split('1   2')[0].replace('\\n',''))[1+4*i::35].replace(' ','')) for i in range(9)]\n",
    "crates2 = deepcopy(crates)\n",
    "\n",
    "moves = [re.findall(pattern=r'[0-9]+', string=m) for m in input.split('8   9')[1].splitlines()[2:]]"
   ]
  },
  {
   "cell_type": "code",
   "execution_count": 13,
   "metadata": {},
   "outputs": [
    {
     "name": "stdout",
     "output_type": "stream",
     "text": [
      "QNHWJVJZW\n"
     ]
    }
   ],
   "source": [
    "for m in moves:\n",
    "    m = [int(i)-1 for i in m]\n",
    "    for _ in range(m[0]+1):\n",
    "        crates[m[2]].insert(\n",
    "                0,\n",
    "                crates[m[1]].pop(0))\n",
    "                \n",
    "# question 1\n",
    "print(''.join([c[0] for c in crates]))"
   ]
  },
  {
   "cell_type": "code",
   "execution_count": 14,
   "metadata": {},
   "outputs": [
    {
     "data": {
      "text/plain": [
       "'BPCZJLFJW'"
      ]
     },
     "execution_count": 14,
     "metadata": {},
     "output_type": "execute_result"
    }
   ],
   "source": [
    "for m in moves:\n",
    "    m = [int(i)-1 for i in m]\n",
    "    crates2[m[2]] = crates2[m[1]][:m[0]+1]+crates2[m[2]]\n",
    "    crates2[m[1]] = crates2[m[1]][m[0]+1:]\n",
    "\n",
    "# question 2\n",
    "''.join([c[0] for c in crates2])"
   ]
  },
  {
   "cell_type": "markdown",
   "metadata": {},
   "source": [
    "## Day 6"
   ]
  },
  {
   "cell_type": "code",
   "execution_count": 15,
   "metadata": {},
   "outputs": [],
   "source": [
    "with open('data/day6.txt') as file:\n",
    "    input = file.read()"
   ]
  },
  {
   "cell_type": "code",
   "execution_count": 16,
   "metadata": {},
   "outputs": [
    {
     "name": "stdout",
     "output_type": "stream",
     "text": [
      "1848\n",
      "2308\n"
     ]
    }
   ],
   "source": [
    "for i in range(4, len(input)):\n",
    "    if len(set(input[i-4:i]))==4:\n",
    "        print(i)\n",
    "        break\n",
    "\n",
    "for i in range(14, len(input)):\n",
    "    if len(set(input[i-14:i]))==14:\n",
    "        print(i)\n",
    "        break"
   ]
  },
  {
   "cell_type": "markdown",
   "metadata": {},
   "source": [
    "## Day 7"
   ]
  },
  {
   "cell_type": "code",
   "execution_count": 17,
   "metadata": {},
   "outputs": [
    {
     "name": "stdout",
     "output_type": "stream",
     "text": [
      "1443806\n",
      "942298\n"
     ]
    }
   ],
   "source": [
    "with open('data/day7.txt') as file:\n",
    "    input = file.read()\n",
    "\n",
    "dir = {'/' : {}}\n",
    "path = []\n",
    "\n",
    "for l in input.splitlines():\n",
    "    args = l.split(' ')\n",
    "    if '$' in l:\n",
    "        if 'cd' in l:\n",
    "            if '..' in l:\n",
    "                path.pop()\n",
    "            elif '/' in l:\n",
    "                path = [dir['/']]\n",
    "            else:\n",
    "                path.append(path[-1][args[2]])\n",
    "    else:\n",
    "        if 'dir' in l:\n",
    "            path[-1][args[1]] = {}  \n",
    "        else:\n",
    "            path[-1][args[1]] = int(args[0])\n",
    "\n",
    "filesize = {}\n",
    "\n",
    "def recursion(base_dir, dir_name):\n",
    "    size = 0\n",
    "    for d,subdir in base_dir.items():\n",
    "        if type(subdir) == dict:\n",
    "            key = dir_name + '/' + d if dir_name else '/'\n",
    "            filesize[key] = recursion(subdir, key)\n",
    "            size += filesize[key]\n",
    "        else:\n",
    "            size += subdir\n",
    "    return size\n",
    "\n",
    "recursion(dir, '')\n",
    "\n",
    "# question1\n",
    "print(sum(fs for fs in filesize.values() if fs <= 100000))\n",
    "\n",
    "# question2\n",
    "print(min(fs for fs in filesize.values() if fs > filesize['/'] - 40000000))"
   ]
  },
  {
   "cell_type": "markdown",
   "metadata": {},
   "source": [
    "## Day 8"
   ]
  },
  {
   "cell_type": "code",
   "execution_count": 18,
   "metadata": {},
   "outputs": [
    {
     "name": "stdout",
     "output_type": "stream",
     "text": [
      "1708\n",
      "504000\n"
     ]
    }
   ],
   "source": [
    "with open('data/day8.txt') as file:\n",
    "    input = file.read()\n",
    "\n",
    "matrix = []\n",
    "empties = []\n",
    "for line in input.splitlines():\n",
    "    matrix.append([int(i) for i in list(line)])\n",
    "    empties.append([0]*len(line))\n",
    "\n",
    "for row, empty in zip(matrix, empties):\n",
    "    l, r = 0, len(row)-1\n",
    "    l_max, r_max = row[l], row[r]\n",
    "    empty[l], empty[r] = 1, 1\n",
    "    while l<r:\n",
    "        if l_max<r_max:\n",
    "            l+=1\n",
    "            if row[l]>l_max:\n",
    "                empty[l]=1\n",
    "                l_max = row[l]\n",
    "        else:\n",
    "            r-=1\n",
    "            if row[r]>r_max:\n",
    "                empty[r]=1\n",
    "                r_max = row[r]\n",
    "\n",
    "# turn 90 degrees and do again\n",
    "matrix = [list(l) for l in zip(*matrix[::-1])]\n",
    "empties = [list(l) for l in zip(*empties[::-1])]\n",
    "\n",
    "for row, empty in zip(matrix, empties):\n",
    "    l, r = 0, len(row)-1\n",
    "    l_max, r_max = row[l], row[r]\n",
    "    empty[l], empty[r] = 1, 1\n",
    "    while l<r:\n",
    "        if l_max<r_max:\n",
    "            l+=1\n",
    "            if row[l]>l_max:\n",
    "                empty[l]=1\n",
    "                l_max = row[l]\n",
    "        else:\n",
    "            r-=1\n",
    "            if row[r]>r_max:\n",
    "                empty[r]=1\n",
    "                r_max = row[r]\n",
    "\n",
    "# question 1\n",
    "print(sum(map(sum, empties)))\n",
    "\n",
    "\n",
    "max_range = 0\n",
    "for i in range(len(matrix)):\n",
    "    for j in range(len(matrix[0])):\n",
    "        tree = matrix[i][j]\n",
    "        up, down, right, left = 0, 0, 0, 0\n",
    "\n",
    "        x=i\n",
    "        while x>0:\n",
    "            x-=1\n",
    "            up+=1\n",
    "            if matrix[x][j] >= tree:\n",
    "                break\n",
    "        x=i\n",
    "        while x<len(matrix)-1:\n",
    "            x+=1\n",
    "            down+=1\n",
    "            if matrix[x][j] >= tree:\n",
    "                break\n",
    "        x=j\n",
    "        while x<len(matrix[0])-1:\n",
    "            x+=1\n",
    "            right+=1\n",
    "            if matrix[i][x] >= tree:\n",
    "                break\n",
    "        x=j\n",
    "        while x>0:\n",
    "            x-=1\n",
    "            left+=1\n",
    "            if matrix[i][x] >= tree:\n",
    "                break\n",
    "\n",
    "        vision = up*down*right*left        \n",
    "        max_range = max(max_range, vision)\n",
    "\n",
    "print(max_range)"
   ]
  },
  {
   "cell_type": "markdown",
   "metadata": {},
   "source": [
    "## Day 9"
   ]
  },
  {
   "cell_type": "code",
   "execution_count": 19,
   "metadata": {},
   "outputs": [
    {
     "name": "stdout",
     "output_type": "stream",
     "text": [
      "5764\n",
      "2616\n"
     ]
    }
   ],
   "source": [
    "with open('data/day9.txt') as file:\n",
    "    input = file.read()\n",
    "\n",
    "head = [0, 0]\n",
    "tail = [0, 0]\n",
    "visited = []\n",
    "\n",
    "for step in input.splitlines():\n",
    "    dir, length = step.split(' ')[0], int(step.split(' ')[1])\n",
    "    for _ in range(length):\n",
    "        # move head\n",
    "        if dir=='R':\n",
    "            head[0]+=1\n",
    "        elif dir=='L':\n",
    "            head[0]-=1\n",
    "        elif dir=='U':\n",
    "            head[1]+=1\n",
    "        elif dir=='D':\n",
    "            head[1]-=1\n",
    "        \n",
    "        # check if diagonal movement,\n",
    "        # this happens when manhattan\n",
    "        # distance is > 2.\n",
    "        diag = sum([\n",
    "            abs(head[0]-tail[0]),\n",
    "            abs(head[0]-tail[0]),\n",
    "            abs(head[1]-tail[1]),\n",
    "            abs(head[1]-tail[1])\n",
    "            ]) > 2\n",
    "        \n",
    "        # move tail\n",
    "        if diag:\n",
    "            if head[0]>tail[0]:\n",
    "                tail[0]+=1\n",
    "            if head[0]<tail[0]:\n",
    "                tail[0]-=1\n",
    "            if head[1]>tail[1]:\n",
    "                tail[1]+=1\n",
    "            if head[1]<tail[1]:\n",
    "                tail[1]-=1 \n",
    "        else: \n",
    "            if head[0]-tail[0]>1:\n",
    "                tail[0]+=1\n",
    "            if head[0]-tail[0]<-1:\n",
    "                tail[0]-=1\n",
    "            if head[1]-tail[1]>1:\n",
    "                tail[1]+=1\n",
    "            if head[1]-tail[1]<-1:\n",
    "                tail[1]-=1 \n",
    "\n",
    "        # add tail position\n",
    "        visited.append(tuple(tail[:]))\n",
    "\n",
    "# question 1\n",
    "print(len(set(visited)))\n",
    "\n",
    "tails = [[0, 0] for _ in range(10)]\n",
    "visited = []\n",
    "\n",
    "for step in input.splitlines():\n",
    "    dir, length = step.split(' ')[0], int(step.split(' ')[1])\n",
    "    for _ in range(length):\n",
    "        # same approach as above but move tails\n",
    "        # iteratively refering the previous tail\n",
    "        if dir=='R':\n",
    "            tails[0][0]+=1\n",
    "        elif dir=='L':\n",
    "            tails[0][0]-=1\n",
    "        elif dir=='U':\n",
    "            tails[0][1]+=1\n",
    "        elif dir=='D':\n",
    "            tails[0][1]-=1\n",
    "        \n",
    "        for i in range(1, 10):\n",
    "            diag = sum([\n",
    "                abs(tails[i-1][0]-tails[i][0]),\n",
    "                abs(tails[i-1][0]-tails[i][0]),\n",
    "                abs(tails[i-1][1]-tails[i][1]),\n",
    "                abs(tails[i-1][1]-tails[i][1])\n",
    "                ]) > 2\n",
    "            \n",
    "            if diag:\n",
    "                if tails[i-1][0]>tails[i][0]:\n",
    "                    tails[i][0]+=1\n",
    "                if tails[i-1][0]<tails[i][0]:\n",
    "                    tails[i][0]-=1\n",
    "                if tails[i-1][1]>tails[i][1]:\n",
    "                    tails[i][1]+=1\n",
    "                if tails[i-1][1]<tails[i][1]:\n",
    "                    tails[i][1]-=1 \n",
    "            else: \n",
    "                if tails[i-1][0]-tails[i][0]>1:\n",
    "                    tails[i][0]+=1\n",
    "                if tails[i-1][0]-tails[i][0]<-1:\n",
    "                    tails[i][0]-=1\n",
    "                if tails[i-1][1]-tails[i][1]>1:\n",
    "                    tails[i][1]+=1\n",
    "                if tails[i-1][1]-tails[i][1]<-1:\n",
    "                    tails[i][1]-=1 \n",
    "\n",
    "\n",
    "        visited.append(tuple(tails[i][:]))\n",
    "\n",
    "print(len(set(visited)))"
   ]
  },
  {
   "cell_type": "markdown",
   "metadata": {},
   "source": [
    "## Day 10"
   ]
  },
  {
   "cell_type": "code",
   "execution_count": 20,
   "metadata": {},
   "outputs": [],
   "source": [
    "with open('data/day10.txt') as file:\n",
    "    input = file.read()"
   ]
  },
  {
   "cell_type": "code",
   "execution_count": 21,
   "metadata": {},
   "outputs": [
    {
     "name": "stdout",
     "output_type": "stream",
     "text": [
      "13440\n",
      "###  ###  ####  ##  ###   ##  ####  ##  \n",
      "#  # #  #    # #  # #  # #  #    # #  # \n",
      "#  # ###    #  #    #  # #  #   #  #  # \n",
      "###  #  #  #   # ## ###  ####  #   #### \n",
      "#    #  # #    #  # # #  #  # #    #  # \n",
      "#    ###  ####  ### #  # #  # #### #  # \n"
     ]
    }
   ],
   "source": [
    "total = 1\n",
    "i = 1\n",
    "\n",
    "points = [20, 60, 100, 140, 180, 220]\n",
    "total_score = 0\n",
    "\n",
    "\n",
    "screen = [[\" \"] * 40 for _ in range(6)]\n",
    "\n",
    "def draw(cycle, strength):\n",
    "    cycle-=1\n",
    "    row = cycle//40\n",
    "    col = cycle%40\n",
    "    if abs(strength-col)<2:\n",
    "        screen[row][col]='#'    \n",
    "\n",
    "for line in input.splitlines():\n",
    "    draw(cycle=i, strength=total)\n",
    "    i+=1\n",
    "    \n",
    "    if i in points:\n",
    "        total_score += points.pop(0) * total\n",
    "\n",
    "    if num:=re.findall(pattern=r'-*[0-9]+', string=line):\n",
    "        draw(cycle=i, strength=total)\n",
    "        i+=1\n",
    "        total+=int(num[0])\n",
    "\n",
    "    if i in points:\n",
    "        total_score += points.pop(0) * total\n",
    "\n",
    "\n",
    "print(total_score)\n",
    "for row in screen:\n",
    "    print(''.join(row))"
   ]
  },
  {
   "cell_type": "markdown",
   "metadata": {},
   "source": [
    "## Day 11"
   ]
  },
  {
   "cell_type": "code",
   "execution_count": 22,
   "metadata": {},
   "outputs": [],
   "source": [
    "class Monkey:\n",
    "  \"\"\"\n",
    "  Fully fledged item throwing\n",
    "  and inspecting monkeys.\n",
    "\n",
    "  Create using monkey parser\n",
    "  \"\"\"\n",
    "  def __init__(\n",
    "      self,\n",
    "      number:int,\n",
    "      items:list,\n",
    "      operation:str,\n",
    "      reduction:str,\n",
    "      test:int,\n",
    "      friends:list\n",
    "      ):\n",
    "    self.number = number\n",
    "    self.items = items\n",
    "    self.operation = operation\n",
    "    self.reduction = reduction\n",
    "    self.test = test\n",
    "    self.friends = friends\n",
    "    self.inspections = 0\n",
    "\n",
    "  def _inspect(self) -> None:\n",
    "    \"\"\"\n",
    "    Apply inspection function to\n",
    "    keep track of worry, also log\n",
    "    number of inspections\n",
    "    \"\"\"\n",
    "    for i in range(len(self.items)):\n",
    "      # their operation\n",
    "      self.items[i]=eval(\n",
    "        self.operation.replace('old', str(self.items[i])))\n",
    "      # function to reduce worry\n",
    "      self.items[i] = eval(\n",
    "        self.reduction.replace('old', str(self.items[i])))\n",
    "      # keep count of inspections\n",
    "      self.inspections += 1\n",
    "\n",
    "  def _test(self) -> dict:\n",
    "    \"\"\"\n",
    "    Apply their test to decide where to throw\n",
    "    items, return dict of items to throw\n",
    "    \"\"\"\n",
    "    to_throw = {f:[] for f in self.friends}\n",
    "    for i in self.items:\n",
    "      if i % self.test == 0:\n",
    "        to_throw[self.friends[0]].append(i)\n",
    "      else:\n",
    "        to_throw[self.friends[1]].append(i)\n",
    "    self.items = []\n",
    "    return to_throw\n",
    "\n",
    "  def tour(self) -> dict:\n",
    "    \"\"\"\n",
    "    Wrap inspection and test, return dict\n",
    "    of items to throw\n",
    "    \"\"\"\n",
    "    # one round for one monkey\n",
    "    self._inspect()\n",
    "    to_throw = self._test()\n",
    "    return to_throw\n",
    "\n",
    "\n",
    "class Jungle():\n",
    "  \"\"\"\n",
    "  Jungle class keeping track of entire\n",
    "  pack of monkeys. \n",
    "  \"\"\"\n",
    "  def __init__(\n",
    "      self,\n",
    "      monkeys:list[Monkey]\n",
    "      ):\n",
    "    self.monkeys = monkeys\n",
    "\n",
    "  def tour(\n",
    "      self,\n",
    "      tours: int=1,\n",
    "      log: bool=True\n",
    "      ) -> None:\n",
    "    \"\"\"\n",
    "    Have entire pack of monkeys do their\n",
    "    item inspections and throw items to \n",
    "    pertinent monkey friends.\n",
    "\n",
    "    log allows for \"pretty\" logging.\n",
    "    \"\"\"\n",
    "    for t in range(tours):\n",
    "      for monkey in self.monkeys:\n",
    "        to_throw = monkey.tour()\n",
    "        for friend in to_throw.keys():\n",
    "          self.monkeys[friend].items += to_throw[friend]\n",
    "\n",
    "      if log:\n",
    "        print('Round %s' % str(t+1))\n",
    "        for monkey in self.monkeys: \n",
    "          print('Monkey %s :' % monkey.number, monkey.items)\n",
    "\n",
    "  def monkey_business(self) -> int:\n",
    "    \"\"\"\n",
    "    Get current amount of monkey business.\n",
    "    \"\"\"\n",
    "    inspections = sorted([monkey.inspections for monkey in self.monkeys])\n",
    "    return inspections[-2]*inspections[-1]\n",
    "      \n",
    "\n",
    "def monkey_parser(monkey_txt: list):\n",
    "  \"\"\"\n",
    "  Function to parse text for induvidual monkeys\n",
    "  and return attributes\n",
    "  \"\"\"\n",
    "  attributes = {}\n",
    "  # get monkey number\n",
    "  attributes['number'] = \\\n",
    "    int(''.join([i for i in list(monkey_txt[0]) if i in '0123456789']))\n",
    "  # get list of items\n",
    "  attributes['items'] = \\\n",
    "    [int(i) for i in monkey_txt[1].split(': ')[1].split(', ')]\n",
    "  # get worry model\n",
    "  attributes['operation'] = \\\n",
    "    monkey_txt[2].split('= ')[1]\n",
    "  # get test\n",
    "  attributes['test'] = \\\n",
    "    int(monkey_txt[3].split()[-1])\n",
    "  # get friends\n",
    "  attributes['friends'] = [\n",
    "    int(monkey_txt[-2].split()[-1]), int(monkey_txt[-1].split()[-1])]\n",
    "\n",
    "  return attributes\n",
    "\n",
    "\n",
    "def jungle_parser(jungle_txt: list[str], question: int=1):\n",
    "  \"\"\"\n",
    "  Function to parse text for entire jungle \n",
    "  and return attributes\n",
    "  \"\"\"\n",
    "  # in questions 1 worry is reduced as\n",
    "  # worry = worry // 3 \n",
    "  if question == 1:\n",
    "    reduction = 'old // 3'\n",
    "  # since \n",
    "  #   x % n = x % n % n,\n",
    "  # we can save x % n instead of x\n",
    "  # with n being the lcm of all tests, \n",
    "  # effectively preventing the worry \n",
    "  # level of ever exceeding n, without\n",
    "  # impacting the tests\n",
    "  else:\n",
    "    tests = [monkey_parser(monkey_txt)['test'] for monkey_txt in jungle_txt]\n",
    "    test_lcm = reduce(lcm, tests)\n",
    "    reduction = 'old % {}'.format(test_lcm)\n",
    "    \n",
    "  monkeys = []\n",
    "  for monkey_txt in jungle_txt:\n",
    "    monkeys.append(Monkey(**monkey_parser(monkey_txt), reduction=reduction))\n",
    "  return Jungle(monkeys)\n"
   ]
  },
  {
   "cell_type": "code",
   "execution_count": 23,
   "metadata": {},
   "outputs": [],
   "source": [
    "with open('data/day11.txt') as file:\n",
    "    input = file.read()\n",
    "jungle_txt = [i.splitlines() for i in input.split('\\n\\n')]"
   ]
  },
  {
   "cell_type": "code",
   "execution_count": 24,
   "metadata": {},
   "outputs": [
    {
     "data": {
      "text/plain": [
       "101436"
      ]
     },
     "execution_count": 24,
     "metadata": {},
     "output_type": "execute_result"
    }
   ],
   "source": [
    "jungle = jungle_parser(jungle_txt=jungle_txt, question=1)\n",
    "jungle.tour(tours=20, log=False)\n",
    "jungle.monkey_business()"
   ]
  },
  {
   "cell_type": "code",
   "execution_count": 25,
   "metadata": {},
   "outputs": [
    {
     "data": {
      "text/plain": [
       "19754471646"
      ]
     },
     "execution_count": 25,
     "metadata": {},
     "output_type": "execute_result"
    }
   ],
   "source": [
    "jungle = jungle_parser(jungle_txt=jungle_txt, question=2)\n",
    "jungle.tour(tours=10_000, log=False)\n",
    "jungle.monkey_business()"
   ]
  },
  {
   "cell_type": "markdown",
   "metadata": {},
   "source": [
    "## Day 12"
   ]
  },
  {
   "cell_type": "code",
   "execution_count": 534,
   "metadata": {},
   "outputs": [],
   "source": [
    "def idx(input, row, col):\n",
    "    \"\"\"\n",
    "    Helper function creating an int\n",
    "    index from a 2d index in a matrix\n",
    "    \"\"\"\n",
    "    return len(input[0])*row + col\n",
    "    \n",
    "\n",
    "class Mountain:\n",
    "    \"\"\"\n",
    "    Graph representation of all feasible\n",
    "    paths of a matrix representation of a\n",
    "    mountain\n",
    "    \"\"\"\n",
    "    def __init__(\n",
    "            self,\n",
    "            matrix: list[list[int]],\n",
    "            inverse: bool=False\n",
    "            ):\n",
    "        # set -1 paths between all points on mountain\n",
    "        self.edges = [\n",
    "            [-1 for _ in range(len(matrix)*len(matrix[0]))]\n",
    "            for _ in range(len(matrix)*len(matrix[0]))\n",
    "            ]\n",
    "        # iterate once over input to get all paths\n",
    "        self._matrix_to_graph(matrix=matrix, inverse=inverse)\n",
    "        self.v = len(matrix)*len(matrix[0])\n",
    "        self.visited = []\n",
    "    \n",
    "\n",
    "    def _add_edge(\n",
    "            self,\n",
    "            u,\n",
    "            v,\n",
    "            weight\n",
    "            ):\n",
    "        self.edges[u][v] = weight\n",
    "\n",
    "\n",
    "    def _matrix_to_graph(\n",
    "            self,\n",
    "            matrix,\n",
    "            inverse\n",
    "            ):\n",
    "        # inverse changes all elements to negative\n",
    "        # this allows djikstra to search from end\n",
    "        # to start instead of inverse... \n",
    "        if inverse:\n",
    "            matrix = [[-x for x in l] for l in matrix]\n",
    "            \n",
    "        for row in range(len(matrix)):\n",
    "            for col in range(len(matrix[0])):\n",
    "                \n",
    "                u, u_value = idx(matrix, row, col), matrix[row][col]\n",
    "\n",
    "\n",
    "                # check point right of u\n",
    "                if col+1 < len(matrix[0]):\n",
    "                    v = idx(matrix, row, col+1)\n",
    "                    if matrix[row][col+1]-u_value < 2:\n",
    "                        self._add_edge(u=u, v=v, weight=1)\n",
    "                    if u_value - matrix[row][col+1] < 2:\n",
    "                        self._add_edge(u=v, v=u, weight=1)\n",
    "                # check point below u\n",
    "                if row+1 < len(matrix):\n",
    "                    v = idx(matrix, row+1, col)\n",
    "                    if matrix[row+1][col]-u_value < 2:\n",
    "                        self._add_edge(u=u, v=v, weight=1)\n",
    "                    if u_value - matrix[row+1][col] < 2:\n",
    "                        self._add_edge(u=v, v=u, weight=1)\n",
    "\n",
    "\n",
    "def dijkstra(\n",
    "        graph,\n",
    "        start_vertex,\n",
    "        ):\n",
    "    v_num = graph.v\n",
    "    D = {v:float('inf') for v in range(graph.v)}\n",
    "    D[start_vertex] = 0\n",
    "\n",
    "    pq = [start_vertex]\n",
    "\n",
    "    while pq:\n",
    "        current_vertex = pq.pop(0)\n",
    "        graph.visited.append(current_vertex)\n",
    "\n",
    "        for neighbor in range(graph.v):\n",
    "            if graph.edges[current_vertex][neighbor] != -1:\n",
    "                distance = graph.edges[current_vertex][neighbor]\n",
    "                if neighbor not in graph.visited:\n",
    "                    old_cost = D[neighbor]\n",
    "                    new_cost = D[current_vertex] + distance\n",
    "                    if new_cost < old_cost:\n",
    "                        pq.append(neighbor)\n",
    "                        D[neighbor] = new_cost\n",
    "\n",
    "    graph.v = v_num\n",
    "    graph.visited = []\n",
    "    return D\n",
    "\n",
    "with open('data/day12.txt') as file:\n",
    "    input = file.read()\n",
    "\n",
    "ends = []\n",
    "input = [list(i) for i in input.splitlines()]\n",
    "for row in range(len(input)):\n",
    "    for col in range(len(input[0])):\n",
    "        # see if element is start,\n",
    "        # save position, relabel\n",
    "        if input[row][col]=='S':\n",
    "            start = idx(input, row, col)\n",
    "            input[row][col]='a'\n",
    "        # see if element is end,\n",
    "        # save position, relabel\n",
    "        elif input[row][col]=='E':\n",
    "            end = idx(input, row, col)\n",
    "            input[row][col]='z'\n",
    "        \n",
    "        # get potential ends for question 2\n",
    "        if input[row][col]=='a':\n",
    "            ends.append(idx(input, row, col))\n",
    "\n",
    "        # change element to numeric\n",
    "        input[row][col] = ord(input[row][col])"
   ]
  },
  {
   "cell_type": "code",
   "execution_count": 535,
   "metadata": {},
   "outputs": [
    {
     "data": {
      "text/plain": [
       "339"
      ]
     },
     "execution_count": 535,
     "metadata": {},
     "output_type": "execute_result"
    }
   ],
   "source": [
    "m = Mountain(matrix=input)\n",
    "D = dijkstra(m, start)\n",
    "D[end]"
   ]
  },
  {
   "cell_type": "code",
   "execution_count": 537,
   "metadata": {},
   "outputs": [
    {
     "data": {
      "text/plain": [
       "332"
      ]
     },
     "execution_count": 537,
     "metadata": {},
     "output_type": "execute_result"
    }
   ],
   "source": [
    "m = Mountain(matrix=input, inverse=True)\n",
    "D = dijkstra(m, start_vertex=end)\n",
    "candidates = []\n",
    "for d in D.keys():\n",
    "    if d in ends:\n",
    "        candidates.append(D[d])\n",
    "min(candidates)"
   ]
  },
  {
   "cell_type": "markdown",
   "metadata": {},
   "source": [
    "## Day 13"
   ]
  },
  {
   "cell_type": "code",
   "execution_count": 29,
   "metadata": {},
   "outputs": [],
   "source": [
    "def evaluate(left, right):\n",
    "    # check if ints, compare\n",
    "    if type(left)==int and type(right)==int:\n",
    "        if left == right:\n",
    "            return 0\n",
    "        elif left < right:\n",
    "            return -1\n",
    "        else:\n",
    "            return 1\n",
    "\n",
    "    # create iterators\n",
    "    try:\n",
    "        left = iter(left)\n",
    "    except:\n",
    "        left = iter((left,))\n",
    "    try:\n",
    "        right = iter(right)\n",
    "    except:\n",
    "        right = iter((right,))\n",
    "\n",
    "    # go through iterators\n",
    "    while True:\n",
    "        # check if left but not right\n",
    "        try:\n",
    "            left1 = next(left)\n",
    "        except:\n",
    "            try:\n",
    "                next(right)\n",
    "                return -1\n",
    "            except:\n",
    "                return 0\n",
    "        # check right only right\n",
    "        try:\n",
    "            right1 = next(right)\n",
    "        except:\n",
    "            return 1\n",
    "        # otherwise recurse\n",
    "        if comp:=evaluate(left1, right1):\n",
    "            return comp"
   ]
  },
  {
   "cell_type": "code",
   "execution_count": 30,
   "metadata": {},
   "outputs": [
    {
     "data": {
      "text/plain": [
       "5605"
      ]
     },
     "execution_count": 30,
     "metadata": {},
     "output_type": "execute_result"
    }
   ],
   "source": [
    "with open('data/day13.txt') as file:\n",
    "    input = file.read()\n",
    "\n",
    "total = 0\n",
    "i=0\n",
    "for pair in [i.splitlines() for i in input.split('\\n\\n')]:\n",
    "    if evaluate(eval(pair[0]), eval(pair[1])) <= 0:\n",
    "        total += i + 1\n",
    "    i+=1\n",
    "total"
   ]
  },
  {
   "cell_type": "code",
   "execution_count": 31,
   "metadata": {},
   "outputs": [
    {
     "data": {
      "text/plain": [
       "24969"
      ]
     },
     "execution_count": 31,
     "metadata": {},
     "output_type": "execute_result"
    }
   ],
   "source": [
    "div1, div2 = [[2]], [[6]]\n",
    "count1, count2 = 1, 1\n",
    "for line in filter(str.strip, input.splitlines()):\n",
    "    packet = eval(line)\n",
    "    if evaluate(packet, div1) < 0:\n",
    "        count1 += 1\n",
    "    elif evaluate(packet, div2) < 0:\n",
    "        count2 += 1\n",
    "count1 * (count1 + count2)"
   ]
  },
  {
   "cell_type": "markdown",
   "metadata": {},
   "source": [
    "## Day 14"
   ]
  },
  {
   "cell_type": "code",
   "execution_count": 32,
   "metadata": {},
   "outputs": [],
   "source": [
    "with open('data/day14.txt') as data:\n",
    "    input = data.read()\n",
    "\n",
    "\n",
    "rocks = set()\n",
    "bottom = 0\n",
    "for line in input.splitlines():\n",
    "    l = [i.split(',') for i in line.split(' -> ')]\n",
    "    for start, end in zip(l, l[1:]):\n",
    "        # get each line separately\n",
    "        x = sorted([int(start[0]), int(end[0])])\n",
    "        y = sorted([int(start[1]), int(end[1])])\n",
    "        # draw entire lines as tuples in set\n",
    "        for xi in range(x[0], x[1]+1):\n",
    "            for yi in range(y[0], y[1]+1):\n",
    "                rocks.add((xi, yi))\n",
    "                bottom = max(bottom, yi+1)"
   ]
  },
  {
   "cell_type": "code",
   "execution_count": 33,
   "metadata": {},
   "outputs": [
    {
     "data": {
      "text/plain": [
       "994"
      ]
     },
     "execution_count": 33,
     "metadata": {},
     "output_type": "execute_result"
    }
   ],
   "source": [
    "rocks1 = deepcopy(rocks)\n",
    "\n",
    "volume = 0\n",
    "filled = False\n",
    "while True:\n",
    "    sand = (500, 0)\n",
    "    while True:\n",
    "        # sand falls to bottom\n",
    "        #   ->  figure filled\n",
    "        if sand[1] >= bottom:\n",
    "            filled=True\n",
    "            break\n",
    "        # sand moves one step down\n",
    "        if (sand[0], sand[1]+1) not in rocks1:\n",
    "            sand = (sand[0], sand[1]+1)\n",
    "            continue\n",
    "        # sand moves diag left down\n",
    "        if (sand[0]-1, sand[1]+1) not in rocks1:\n",
    "            sand = (sand[0]-1, sand[1]+1)\n",
    "            continue\n",
    "        # sand moves diag right down\n",
    "        if (sand[0]+1, sand[1]+1) not in rocks1:\n",
    "            sand = (sand[0]+1, sand[1]+1)\n",
    "            continue\n",
    "        # not failling to bottom and nowhere to move\n",
    "        #   ->  stay where it is\n",
    "        rocks1.add(sand)\n",
    "        volume+=1\n",
    "        break\n",
    "    if filled:\n",
    "        break\n",
    "\n",
    "volume"
   ]
  },
  {
   "cell_type": "code",
   "execution_count": 34,
   "metadata": {},
   "outputs": [
    {
     "data": {
      "text/plain": [
       "26283"
      ]
     },
     "execution_count": 34,
     "metadata": {},
     "output_type": "execute_result"
    }
   ],
   "source": [
    "rocks2 = deepcopy(rocks)\n",
    "\n",
    "# same process as above but we let sand \n",
    "# fall to bottom, only fully break when\n",
    "# (500, 0 ) has been filled\n",
    "\n",
    "volume = 0\n",
    "while (500, 0) not in rocks2:\n",
    "    sand = (500, 0)\n",
    "    while True:\n",
    "        if sand[1] >= bottom:\n",
    "            break\n",
    "        if (sand[0], sand[1]+1) not in rocks2:\n",
    "            sand = (sand[0], sand[1]+1)\n",
    "            continue\n",
    "        if (sand[0]-1, sand[1]+1) not in rocks2:\n",
    "            sand = (sand[0]-1, sand[1]+1)\n",
    "            continue\n",
    "        if (sand[0]+1, sand[1]+1) not in rocks2:\n",
    "            sand = (sand[0]+1, sand[1]+1)\n",
    "            continue\n",
    "        break\n",
    "    rocks2.add(sand)\n",
    "    volume+=1\n",
    "\n",
    "volume"
   ]
  },
  {
   "cell_type": "markdown",
   "metadata": {},
   "source": [
    "## Day 15"
   ]
  },
  {
   "cell_type": "code",
   "execution_count": 35,
   "metadata": {},
   "outputs": [],
   "source": [
    "with open('data/day15.txt') as data:\n",
    "    input = data.read()\n",
    "\n",
    "def manhattan(a, b):\n",
    "    return abs(a.real - b.real) + abs(a.imag - b.imag)"
   ]
  },
  {
   "cell_type": "code",
   "execution_count": 36,
   "metadata": {},
   "outputs": [
    {
     "data": {
      "text/plain": [
       "6124805"
      ]
     },
     "execution_count": 36,
     "metadata": {},
     "output_type": "execute_result"
    }
   ],
   "source": [
    "sensors = []\n",
    "beacons = []\n",
    "distances = []\n",
    "for line in input.splitlines():\n",
    "    line = [int(i) for i in re.findall(r'-*[0-9]+', string=line)]\n",
    "    sensors.append(line[0] + line[1]*1j)\n",
    "    beacons.append(line[2] + line[3]*1j)\n",
    "    distances.append(manhattan(sensors[-1], beacons[-1]))\n",
    "\n",
    "y = 2000000\n",
    "occupied = set()\n",
    "for sensor, distance in zip(sensors, distances):\n",
    "    if sensor.imag-distance <= y <= sensor.imag+distance:\n",
    "        spare_distance = int(distance - abs(y-sensor.imag))\n",
    "        occupied.add(sensor.real)\n",
    "        for i in range(spare_distance + 1):\n",
    "            occupied.add(sensor.real - i)\n",
    "            occupied.add(sensor.real + i)\n",
    "\n",
    "existing = set([b.real for b in beacons if b.imag==y])\n",
    "\n",
    "# question 1\n",
    "len(occupied)-len(existing)"
   ]
  },
  {
   "cell_type": "code",
   "execution_count": 37,
   "metadata": {},
   "outputs": [
    {
     "name": "stdout",
     "output_type": "stream",
     "text": [
      "12555527364986.0\n"
     ]
    }
   ],
   "source": [
    "edge = set()\n",
    "lower, higher = 0, 4000000\n",
    "\n",
    "for sensor, distance in zip(sensors, distances):\n",
    "    if sensor.real<0:\n",
    "        start = max(-x, -int(distance)-1)\n",
    "    else:\n",
    "        start = -int(distance)-1\n",
    "    for i in range(start, int(distance)+2):\n",
    "        x = sensor.real + i\n",
    "        y = sensor.imag + distance + 1 - abs(i)\n",
    "        if lower <= x <= higher and lower <= y <= higher:\n",
    "            edge.add(x + y*1j)\n",
    "        if x >= higher or y <= lower:\n",
    "            break\n",
    "\n",
    "    if sensor.imag < 0:\n",
    "        start = max(-y, -int(distance)-1)\n",
    "    else:\n",
    "        start = -int(distance)-1\n",
    "    for i in range(-int(distance)-1, int(distance)+2):\n",
    "        x = sensor.real + distance + 1 - abs(i)\n",
    "        y = sensor.imag + i\n",
    "        if lower <= x <= higher and lower <= y <= higher:\n",
    "            edge.add(x + y*1j)\n",
    "        if x <= lower or y >= higher:\n",
    "            break\n",
    "\n",
    "num_sensors = len(sensors)\n",
    "final = False\n",
    "\n",
    "for point in edge:\n",
    "    n = 0\n",
    "    for sensor, distance in zip(sensors, distances):\n",
    "        if not manhattan(sensor, point) > distance:\n",
    "            break\n",
    "        n += 1\n",
    "        if n == num_sensors:\n",
    "            final = point\n",
    "            break\n",
    "    if final:\n",
    "        break\n",
    "\n",
    "print(final.real * 4000000 + final.imag)"
   ]
  },
  {
   "cell_type": "markdown",
   "metadata": {},
   "source": [
    "## Day 16"
   ]
  },
  {
   "cell_type": "code",
   "execution_count": 517,
   "metadata": {},
   "outputs": [],
   "source": [
    "with open('data/day16.txt') as data:\n",
    "    input = data.read()\n",
    "\n",
    "paths = {}\n",
    "rates = {}\n",
    "name_map = {}\n",
    "\n",
    "int_name=0\n",
    "for line in input.splitlines():\n",
    "    name=line.split()[1]\n",
    "    name_map[name]=int_name\n",
    "    if int(''.join([n for n in line if n in '1234567890']))>0:\n",
    "        rates[int_name]=int(''.join([n for n in line if n in '1234567890']))\n",
    "    paths[int_name]=line.replace('s','').split('valve ')[-1].split(', ')\n",
    "    int_name+=1\n",
    "\n",
    "paths = {key:[name_map[i] for i in paths[key]] for key in paths.keys()}"
   ]
  },
  {
   "cell_type": "code",
   "execution_count": 523,
   "metadata": {},
   "outputs": [],
   "source": [
    "# re-purposed from day 12\n",
    "class Graph:\n",
    "    def __init__(\n",
    "            self,\n",
    "            path_dict: dict,\n",
    "            ):\n",
    "        self.edges = [\n",
    "            [-1]*len(path_dict)\n",
    "            for _ in range(len(path_dict))\n",
    "            ]\n",
    "        self._matrix_to_graph(path_dict=path_dict)\n",
    "        self.v = len(path_dict)\n",
    "        self.visited = []\n",
    "\n",
    "    def _add_edge(\n",
    "            self,\n",
    "            u,\n",
    "            v\n",
    "            ):\n",
    "        self.edges[u][v] = 1\n",
    "\n",
    "    def _matrix_to_graph(\n",
    "            self,\n",
    "            path_dict,\n",
    "            ):\n",
    "        for u in path_dict.keys():\n",
    "            for v in path_dict[u]:\n",
    "                self._add_edge(u=u, v=v)\n",
    "\n",
    "\n",
    "def path_finder(\n",
    "        position: int,\n",
    "        time_left: int,\n",
    "        to_visit: list,\n",
    "        simulations: int = 1000,\n",
    "    ):\n",
    "\n",
    "    # create random paths by sampling\n",
    "    paths = [\n",
    "        list(sample(to_visit, k=len(to_visit)))\n",
    "        for _ in range(simulations)]\n",
    "\n",
    "    # try random paths, keep the first move\n",
    "    # of the best path tried\n",
    "    top_value = - 10_000\n",
    "    for path in paths:\n",
    "        value = 0\n",
    "        first_character = path[0]\n",
    "        time_left_, position_ = time_left, position\n",
    "        while path and time_left_>0:\n",
    "            next_position = path.pop(0)\n",
    "            time_left_ -= distances[position_][next_position]+1\n",
    "            value += max(time_left_*rates[next_position], 0)\n",
    "            position_ = next_position\n",
    "\n",
    "        if value >= top_value:\n",
    "            best_choice = first_character\n",
    "            top_value = value\n",
    "\n",
    "    # return first move of best path tried     \n",
    "    return best_choice\n",
    "\n",
    "\n",
    "graph = Graph(path_dict=paths)\n",
    "distances = {key:dijkstra(graph=graph, start_vertex=key) for key in paths.keys()}"
   ]
  },
  {
   "cell_type": "code",
   "execution_count": 530,
   "metadata": {},
   "outputs": [
    {
     "name": "stdout",
     "output_type": "stream",
     "text": [
      "1716\n"
     ]
    }
   ],
   "source": [
    "simulation_results = []\n",
    "for _ in range(10):\n",
    "    time_left = 30\n",
    "    to_visit = list(rates.keys())\n",
    "    position = name_map['AA']\n",
    "    total=0\n",
    "\n",
    "    while time_left>0 and to_visit:    \n",
    "\n",
    "        best_choice = path_finder(\n",
    "            position=position,\n",
    "            time_left=time_left,\n",
    "            to_visit=to_visit)\n",
    "\n",
    "        time_left -= distances[position][best_choice]+1\n",
    "        total += max(0, time_left*rates[best_choice])\n",
    "        position = to_visit.pop(to_visit.index(best_choice))\n",
    "\n",
    "    simulation_results.append(total)\n",
    "\n",
    "print(max(simulation_results))"
   ]
  },
  {
   "cell_type": "code",
   "execution_count": 531,
   "metadata": {},
   "outputs": [
    {
     "name": "stdout",
     "output_type": "stream",
     "text": [
      "2504\n"
     ]
    }
   ],
   "source": [
    "simulation_results = []\n",
    "for _ in range(10):\n",
    "    to_visit = list(rates.keys())\n",
    "    position1, position2 = name_map['AA'], name_map['AA']\n",
    "    time_left1, time_left2 = 26, 26\n",
    "    total=0\n",
    "\n",
    "    while time_left1>0 or time_left2>0 and to_visit:\n",
    "\n",
    "        # part for elf\n",
    "\n",
    "        best_choice = path_finder(\n",
    "            position=position1,\n",
    "            time_left=time_left1,\n",
    "            to_visit=to_visit)\n",
    "\n",
    "        time_left1 -= distances[position1][best_choice]+1\n",
    "        total += max(0, time_left1*rates[best_choice])\n",
    "        position1 = to_visit.pop(to_visit.index(best_choice))\n",
    "\n",
    "        if not to_visit:\n",
    "            break\n",
    "\n",
    "        # part for elephant\n",
    "        \n",
    "        best_choice = path_finder(\n",
    "            position=position2,\n",
    "            time_left=time_left2,\n",
    "            to_visit=to_visit)\n",
    "\n",
    "        time_left2 -= distances[position2][best_choice]+1\n",
    "        total += max(0, time_left2*rates[best_choice])\n",
    "        position2 = to_visit.pop(to_visit.index(best_choice))\n",
    "        \n",
    "    simulation_results.append(total)\n",
    "    \n",
    "print(max(simulation_results))"
   ]
  }
 ],
 "metadata": {
  "kernelspec": {
   "display_name": "Python 3.9.12 ('ds2')",
   "language": "python",
   "name": "python3"
  },
  "language_info": {
   "codemirror_mode": {
    "name": "ipython",
    "version": 3
   },
   "file_extension": ".py",
   "mimetype": "text/x-python",
   "name": "python",
   "nbconvert_exporter": "python",
   "pygments_lexer": "ipython3",
   "version": "3.9.13"
  },
  "orig_nbformat": 4,
  "vscode": {
   "interpreter": {
    "hash": "31d8a1ef34cbcebda31b01d96f0668cc5da4b9d1ec201e7411d63c9c214da37f"
   }
  }
 },
 "nbformat": 4,
 "nbformat_minor": 2
}
