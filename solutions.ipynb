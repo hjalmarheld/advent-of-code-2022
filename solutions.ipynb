{
 "cells": [
  {
   "cell_type": "code",
   "execution_count": 1,
   "metadata": {},
   "outputs": [],
   "source": [
    "import re\n",
    "from copy import deepcopy"
   ]
  },
  {
   "cell_type": "markdown",
   "metadata": {},
   "source": [
    "## Day 1"
   ]
  },
  {
   "cell_type": "code",
   "execution_count": 2,
   "metadata": {},
   "outputs": [
    {
     "name": "stdout",
     "output_type": "stream",
     "text": [
      "74394\n",
      "212836\n"
     ]
    }
   ],
   "source": [
    "with open('data/day1.txt') as file:\n",
    "    data = file.read()\n",
    "\n",
    "summed = []\n",
    "current = 0\n",
    "\n",
    "for cal in data.splitlines():\n",
    "    if cal !=\"\":\n",
    "        current+=int(cal)\n",
    "    else:\n",
    "        summed.append(current)\n",
    "        current=0\n",
    "\n",
    "summed.sort()\n",
    "\n",
    "print(summed[-1])\n",
    "print(sum(summed[-3:]))"
   ]
  },
  {
   "cell_type": "markdown",
   "metadata": {},
   "source": [
    "## Day 2"
   ]
  },
  {
   "cell_type": "code",
   "execution_count": 3,
   "metadata": {},
   "outputs": [],
   "source": [
    "with open('data/day2.txt') as file:\n",
    "    input = file.read()\n",
    "\n",
    "input = input.replace('A', 'X').replace('B','Y').replace('C','Z')\n",
    "input = [i.split(' ') for i in input.splitlines()]\n",
    "\n",
    "\n",
    "picks = {'X':1, 'Y':2, 'Z':3}\n",
    "losing = {'X':'Z', 'Y':'X', 'Z':'Y'}\n",
    "winning = {'Z':'X', 'X':'Y', 'Y':'Z'}"
   ]
  },
  {
   "cell_type": "code",
   "execution_count": 4,
   "metadata": {},
   "outputs": [
    {
     "name": "stdout",
     "output_type": "stream",
     "text": [
      "11063\n"
     ]
    }
   ],
   "source": [
    "score = 0\n",
    "for draw in input:\n",
    "    score += picks[draw[1]]\n",
    "    if draw[0]==draw[1]:\n",
    "        score+=3\n",
    "        continue\n",
    "    elif draw[1]=='X':\n",
    "        if draw[0]=='Z':\n",
    "            score+=6\n",
    "        else:\n",
    "            continue\n",
    "    elif draw[1]=='Y':\n",
    "        if draw[0]=='X':\n",
    "            score+=6\n",
    "        else:\n",
    "            continue\n",
    "    elif draw[1]=='Z':\n",
    "        if draw[0]=='Y':\n",
    "            score+=6\n",
    "\n",
    "# question 1\n",
    "print(score)"
   ]
  },
  {
   "cell_type": "code",
   "execution_count": 5,
   "metadata": {},
   "outputs": [
    {
     "name": "stdout",
     "output_type": "stream",
     "text": [
      "10349\n"
     ]
    }
   ],
   "source": [
    "input2 = []\n",
    "for draw in input:\n",
    "    temp = [draw[0]]\n",
    "    if draw[1]=='Y':\n",
    "        temp.append(draw[0])\n",
    "    elif draw[1]=='X':\n",
    "        temp.append(losing[draw[0]])\n",
    "    else:\n",
    "        temp.append(winning[draw[0]])\n",
    "    input2.append(temp)\n",
    "\n",
    "\n",
    "score = 0\n",
    "\n",
    "for draw in input2:\n",
    "    score += picks[draw[1]]\n",
    "    if draw[0]==draw[1]:\n",
    "        score+=3\n",
    "        continue\n",
    "    elif draw[1]=='X':\n",
    "        if draw[0]=='Z':\n",
    "            score+=6\n",
    "        else:\n",
    "            continue\n",
    "    elif draw[1]=='Y':\n",
    "        if draw[0]=='X':\n",
    "            score+=6\n",
    "        else:\n",
    "            continue\n",
    "    elif draw[1]=='Z':\n",
    "        if draw[0]=='Y':\n",
    "            score+=6\n",
    "\n",
    "# question 2\n",
    "print(score)"
   ]
  },
  {
   "cell_type": "markdown",
   "metadata": {},
   "source": [
    "## Day 3"
   ]
  },
  {
   "cell_type": "code",
   "execution_count": 6,
   "metadata": {},
   "outputs": [],
   "source": [
    "with open('data/day3.txt') as file:\n",
    "    input = file.read().splitlines()"
   ]
  },
  {
   "cell_type": "code",
   "execution_count": 7,
   "metadata": {},
   "outputs": [
    {
     "data": {
      "text/plain": [
       "7446"
      ]
     },
     "execution_count": 7,
     "metadata": {},
     "output_type": "execute_result"
    }
   ],
   "source": [
    "letters = 'abcdefghijklmnopqrstuvwxyzABCDEFGHIJKLMNOPQRSTUVWXYZ'\n",
    "\n",
    "common = {}\n",
    "\n",
    "for i in input:\n",
    "    a = i[:(len(i)) // 2]\n",
    "    b = i[(len(i)) // 2:]\n",
    "    for char in set(a).intersection(b):\n",
    "        if char in common:\n",
    "            common[char]+=1\n",
    "        else:\n",
    "            common[char]=1\n",
    "\n",
    "score = 0\n",
    "for key in common.keys():\n",
    "    score += (letters.index(key)+1) * common[key]\n",
    "score"
   ]
  },
  {
   "cell_type": "code",
   "execution_count": 8,
   "metadata": {},
   "outputs": [
    {
     "data": {
      "text/plain": [
       "2646"
      ]
     },
     "execution_count": 8,
     "metadata": {},
     "output_type": "execute_result"
    }
   ],
   "source": [
    "common = {}\n",
    "\n",
    "for i in range(len(input)//3):\n",
    "    a = input[i*3]\n",
    "    b = input[i*3+1]\n",
    "    c = input[i*3+2]\n",
    "\n",
    "    group = set(a).intersection(set(b)).intersection(set(c))\n",
    "\n",
    "    if list(group)[0] in common:\n",
    "        common[list(group)[0]]+=1\n",
    "    else:\n",
    "        common[list(group)[0]]=1\n",
    "\n",
    "score = 0\n",
    "for key in common.keys():\n",
    "    score += (letters.index(key)+1) * common[key]\n",
    "score"
   ]
  },
  {
   "cell_type": "markdown",
   "metadata": {},
   "source": [
    "## Day 4"
   ]
  },
  {
   "cell_type": "code",
   "execution_count": 9,
   "metadata": {},
   "outputs": [],
   "source": [
    "with open('data/day4.txt') as file:\n",
    "    input = file.read().splitlines()\n",
    "\n",
    "input = [i.split(',') for i in input]"
   ]
  },
  {
   "cell_type": "code",
   "execution_count": 10,
   "metadata": {},
   "outputs": [
    {
     "data": {
      "text/plain": [
       "487"
      ]
     },
     "execution_count": 10,
     "metadata": {},
     "output_type": "execute_result"
    }
   ],
   "source": [
    "count=0\n",
    "\n",
    "for i in input:\n",
    "    a = [int(k) for k in i[0].split('-')]\n",
    "    b = [int(k) for k in i[1].split('-')]\n",
    "\n",
    "    if a[0]==b[0] or a[1]==b[1]:\n",
    "        count+=1\n",
    "    elif a[0]<b[0]:\n",
    "        if a[1]>b[1]:\n",
    "            count+=1\n",
    "    elif b[1]>a[1]:\n",
    "        count+=1\n",
    "\n",
    "count"
   ]
  },
  {
   "cell_type": "code",
   "execution_count": 11,
   "metadata": {},
   "outputs": [
    {
     "data": {
      "text/plain": [
       "849"
      ]
     },
     "execution_count": 11,
     "metadata": {},
     "output_type": "execute_result"
    }
   ],
   "source": [
    "count=0\n",
    "\n",
    "for i in input:\n",
    "    a = [int(k) for k in i[0].split('-')]\n",
    "    b = [int(k) for k in i[1].split('-')]\n",
    "\n",
    "    if max(b) >= a[0] >= min(b):\n",
    "        count += 1\n",
    "    elif max(b) >= a[1] >= min(b):\n",
    "        count += 1\n",
    "    elif max(a) >= b[0] >= min(a):\n",
    "        count += 1\n",
    "    elif max(a) >= b[1] >= min(a):\n",
    "        count += 1\n",
    "\n",
    "count"
   ]
  },
  {
   "cell_type": "markdown",
   "metadata": {},
   "source": [
    "## Day 5"
   ]
  },
  {
   "cell_type": "code",
   "execution_count": 12,
   "metadata": {},
   "outputs": [],
   "source": [
    "with open('data/day5.txt') as file:\n",
    "    input = file.read()\n",
    "\n",
    "crates = [list((input.split('1   2')[0].replace('\\n',''))[1+4*i::35].replace(' ','')) for i in range(9)]\n",
    "crates2 = deepcopy(crates)\n",
    "\n",
    "moves = [re.findall(pattern=r'[0-9]+', string=m) for m in input.split('8   9')[1].splitlines()[2:]]"
   ]
  },
  {
   "cell_type": "code",
   "execution_count": 13,
   "metadata": {},
   "outputs": [
    {
     "name": "stdout",
     "output_type": "stream",
     "text": [
      "QNHWJVJZW\n"
     ]
    }
   ],
   "source": [
    "for m in moves:\n",
    "    m = [int(i)-1 for i in m]\n",
    "    for _ in range(m[0]+1):\n",
    "        crates[m[2]].insert(\n",
    "                0,\n",
    "                crates[m[1]].pop(0))\n",
    "                \n",
    "# question 1\n",
    "print(''.join([c[0] for c in crates]))"
   ]
  },
  {
   "cell_type": "code",
   "execution_count": 14,
   "metadata": {},
   "outputs": [
    {
     "data": {
      "text/plain": [
       "'BPCZJLFJW'"
      ]
     },
     "execution_count": 14,
     "metadata": {},
     "output_type": "execute_result"
    }
   ],
   "source": [
    "for m in moves:\n",
    "    m = [int(i)-1 for i in m]\n",
    "    crates2[m[2]] = crates2[m[1]][:m[0]+1]+crates2[m[2]]\n",
    "    crates2[m[1]] = crates2[m[1]][m[0]+1:]\n",
    "\n",
    "# question 2\n",
    "''.join([c[0] for c in crates2])"
   ]
  },
  {
   "cell_type": "markdown",
   "metadata": {},
   "source": [
    "## Day 6"
   ]
  },
  {
   "cell_type": "code",
   "execution_count": 15,
   "metadata": {},
   "outputs": [],
   "source": [
    "with open('data/day6.txt') as file:\n",
    "    input = file.read()"
   ]
  },
  {
   "cell_type": "code",
   "execution_count": 16,
   "metadata": {},
   "outputs": [
    {
     "name": "stdout",
     "output_type": "stream",
     "text": [
      "1848\n",
      "2308\n"
     ]
    }
   ],
   "source": [
    "for i in range(4, len(input)):\n",
    "    if len(set(input[i-4:i]))==4:\n",
    "        print(i)\n",
    "        break\n",
    "\n",
    "for i in range(14, len(input)):\n",
    "    if len(set(input[i-14:i]))==14:\n",
    "        print(i)\n",
    "        break"
   ]
  },
  {
   "cell_type": "markdown",
   "metadata": {},
   "source": [
    "## Day 7"
   ]
  },
  {
   "cell_type": "code",
   "execution_count": 17,
   "metadata": {},
   "outputs": [
    {
     "name": "stdout",
     "output_type": "stream",
     "text": [
      "1443806\n",
      "942298\n"
     ]
    }
   ],
   "source": [
    "with open('data/day7.txt') as file:\n",
    "    input = file.read()\n",
    "\n",
    "dir = {'/' : {}}\n",
    "path = []\n",
    "\n",
    "for l in input.splitlines():\n",
    "    args = l.split(' ')\n",
    "    if '$' in l:\n",
    "        if 'cd' in l:\n",
    "            if '..' in l:\n",
    "                path.pop()\n",
    "            elif '/' in l:\n",
    "                path = [dir['/']]\n",
    "            else:\n",
    "                path.append(path[-1][args[2]])\n",
    "    else:\n",
    "        if 'dir' in l:\n",
    "            path[-1][args[1]] = {}  \n",
    "        else:\n",
    "            path[-1][args[1]] = int(args[0])\n",
    "\n",
    "filesize = {}\n",
    "\n",
    "def recursion(base_dir, dir_name):\n",
    "    size = 0\n",
    "    for d,subdir in base_dir.items():\n",
    "        if type(subdir) == dict:\n",
    "            key = dir_name + '/' + d if dir_name else '/'\n",
    "            filesize[key] = recursion(subdir, key)\n",
    "            size += filesize[key]\n",
    "        else:\n",
    "            size += subdir\n",
    "    return size\n",
    "\n",
    "recursion(dir, '')\n",
    "\n",
    "# question1\n",
    "print(sum(fs for fs in filesize.values() if fs <= 100000))\n",
    "\n",
    "# question2\n",
    "print(min(fs for fs in filesize.values() if fs > filesize['/'] - 40000000))"
   ]
  },
  {
   "cell_type": "markdown",
   "metadata": {},
   "source": [
    "## Day 8"
   ]
  },
  {
   "cell_type": "code",
   "execution_count": 18,
   "metadata": {},
   "outputs": [
    {
     "name": "stdout",
     "output_type": "stream",
     "text": [
      "1708\n",
      "504000\n"
     ]
    }
   ],
   "source": [
    "with open('data/day8.txt') as file:\n",
    "    input = file.read()\n",
    "\n",
    "matrix = []\n",
    "empties = []\n",
    "for line in input.splitlines():\n",
    "    matrix.append([int(i) for i in list(line)])\n",
    "    empties.append([0]*len(line))\n",
    "\n",
    "for row, empty in zip(matrix, empties):\n",
    "    l, r = 0, len(row)-1\n",
    "    l_max, r_max = row[l], row[r]\n",
    "    empty[l], empty[r] = 1, 1\n",
    "    while l<r:\n",
    "        if l_max<r_max:\n",
    "            l+=1\n",
    "            if row[l]>l_max:\n",
    "                empty[l]=1\n",
    "                l_max = row[l]\n",
    "        else:\n",
    "            r-=1\n",
    "            if row[r]>r_max:\n",
    "                empty[r]=1\n",
    "                r_max = row[r]\n",
    "\n",
    "# turn 90 degrees and do again\n",
    "matrix = [list(l) for l in zip(*matrix[::-1])]\n",
    "empties = [list(l) for l in zip(*empties[::-1])]\n",
    "\n",
    "for row, empty in zip(matrix, empties):\n",
    "    l, r = 0, len(row)-1\n",
    "    l_max, r_max = row[l], row[r]\n",
    "    empty[l], empty[r] = 1, 1\n",
    "    while l<r:\n",
    "        if l_max<r_max:\n",
    "            l+=1\n",
    "            if row[l]>l_max:\n",
    "                empty[l]=1\n",
    "                l_max = row[l]\n",
    "        else:\n",
    "            r-=1\n",
    "            if row[r]>r_max:\n",
    "                empty[r]=1\n",
    "                r_max = row[r]\n",
    "\n",
    "# question 1\n",
    "print(sum(map(sum, empties)))\n",
    "\n",
    "\n",
    "max_range = 0\n",
    "for i in range(len(matrix)):\n",
    "    for j in range(len(matrix[0])):\n",
    "        tree = matrix[i][j]\n",
    "        up, down, right, left = 0, 0, 0, 0\n",
    "\n",
    "        x=i\n",
    "        while x>0:\n",
    "            x-=1\n",
    "            up+=1\n",
    "            if matrix[x][j] >= tree:\n",
    "                break\n",
    "        x=i\n",
    "        while x<len(matrix)-1:\n",
    "            x+=1\n",
    "            down+=1\n",
    "            if matrix[x][j] >= tree:\n",
    "                break\n",
    "        x=j\n",
    "        while x<len(matrix[0])-1:\n",
    "            x+=1\n",
    "            right+=1\n",
    "            if matrix[i][x] >= tree:\n",
    "                break\n",
    "        x=j\n",
    "        while x>0:\n",
    "            x-=1\n",
    "            left+=1\n",
    "            if matrix[i][x] >= tree:\n",
    "                break\n",
    "\n",
    "        vision = up*down*right*left        \n",
    "        max_range = max(max_range, vision)\n",
    "\n",
    "print(max_range)"
   ]
  },
  {
   "cell_type": "markdown",
   "metadata": {},
   "source": [
    "## Day 9"
   ]
  },
  {
   "cell_type": "code",
   "execution_count": 19,
   "metadata": {},
   "outputs": [
    {
     "name": "stdout",
     "output_type": "stream",
     "text": [
      "5695\n",
      "2434\n"
     ]
    }
   ],
   "source": [
    "with open('data/day9.txt') as file:\n",
    "    input = file.read()\n",
    "\n",
    "head = [0, 0]\n",
    "tail = [0, 0]\n",
    "visited = []\n",
    "\n",
    "for step in input.splitlines():\n",
    "    dir, length = step.split(' ')[0], int(step.split(' ')[1])\n",
    "    for _ in range(length):\n",
    "        # move head\n",
    "        if dir=='R':\n",
    "            head[0]+=1\n",
    "        elif dir=='L':\n",
    "            head[0]-=1\n",
    "        elif dir=='U':\n",
    "            head[1]+=1\n",
    "        elif dir=='D':\n",
    "            head[1]-=1\n",
    "        \n",
    "        # check if diagonal movement\n",
    "        diag = max(\n",
    "            abs(head[0]-tail[0]),\n",
    "            abs(head[0]-tail[0]),\n",
    "            abs(head[1]-tail[1]),\n",
    "            abs(head[1]-tail[1])\n",
    "            ) > 1\n",
    "        \n",
    "        # move tail\n",
    "        if diag:\n",
    "            if head[0]>tail[0]:\n",
    "                tail[0]+=1\n",
    "            if head[0]<tail[0]:\n",
    "                tail[0]-=1\n",
    "            if head[1]>tail[1]:\n",
    "                tail[1]+=1\n",
    "            if head[1]<tail[1]:\n",
    "                tail[1]-=1 \n",
    "        else: \n",
    "            if head[0]-tail[0]>1:\n",
    "                tail[0]+=1\n",
    "            if head[0]-tail[0]<-1:\n",
    "                tail[0]-=1\n",
    "            if head[1]-tail[1]>1:\n",
    "                tail[1]+=1\n",
    "            if head[1]-tail[1]<-1:\n",
    "                tail[1]-=1 \n",
    "\n",
    "        # check if new tail position\n",
    "        if tail not in visited:\n",
    "            visited.append(tail[:])\n",
    "\n",
    "# question 1\n",
    "print(len(visited))\n",
    "\n",
    "tails = [[0, 0] for _ in range(10)]\n",
    "visited = []\n",
    "\n",
    "for step in input.splitlines():\n",
    "    dir, length = step.split(' ')[0], int(step.split(' ')[1])\n",
    "    for _ in range(length):\n",
    "        # same approach as above but move tails\n",
    "        # iteratively refering the previous tail\n",
    "        if dir=='R':\n",
    "            tails[0][0]+=1\n",
    "        elif dir=='L':\n",
    "            tails[0][0]-=1\n",
    "        elif dir=='U':\n",
    "            tails[0][1]+=1\n",
    "        elif dir=='D':\n",
    "            tails[0][1]-=1\n",
    "        \n",
    "        for i in range(1, 10):\n",
    "            diag = max(\n",
    "                abs(tails[i-1][0]-tails[i][0]),\n",
    "                abs(tails[i-1][0]-tails[i][0]),\n",
    "                abs(tails[i-1][1]-tails[i][1]),\n",
    "                abs(tails[i-1][1]-tails[i][1])\n",
    "                ) > 1\n",
    "            \n",
    "            if diag:\n",
    "                if tails[i-1][0]>tails[i][0]:\n",
    "                    tails[i][0]+=1\n",
    "                if tails[i-1][0]<tails[i][0]:\n",
    "                    tails[i][0]-=1\n",
    "                if tails[i-1][1]>tails[i][1]:\n",
    "                    tails[i][1]+=1\n",
    "                if tails[i-1][1]<tails[i][1]:\n",
    "                    tails[i][1]-=1 \n",
    "            else: \n",
    "                if tails[i-1][0]-tails[i][0]>1:\n",
    "                    tails[i][0]+=1\n",
    "                if tails[i-1][0]-tails[i][0]<-1:\n",
    "                    tails[i][0]-=1\n",
    "                if tails[i-1][1]-tails[i][1]>1:\n",
    "                    tails[i][1]+=1\n",
    "                if tails[i-1][1]-tails[i][1]<-1:\n",
    "                    tails[i][1]-=1 \n",
    "\n",
    "\n",
    "        if tails[-1] not in visited:\n",
    "            visited.append(tails[i][:])\n",
    "\n",
    "print(len(visited))"
   ]
  }
 ],
 "metadata": {
  "kernelspec": {
   "display_name": "Python 3.9.12 ('ds2')",
   "language": "python",
   "name": "python3"
  },
  "language_info": {
   "codemirror_mode": {
    "name": "ipython",
    "version": 3
   },
   "file_extension": ".py",
   "mimetype": "text/x-python",
   "name": "python",
   "nbconvert_exporter": "python",
   "pygments_lexer": "ipython3",
   "version": "3.9.13"
  },
  "orig_nbformat": 4,
  "vscode": {
   "interpreter": {
    "hash": "31d8a1ef34cbcebda31b01d96f0668cc5da4b9d1ec201e7411d63c9c214da37f"
   }
  }
 },
 "nbformat": 4,
 "nbformat_minor": 2
}
